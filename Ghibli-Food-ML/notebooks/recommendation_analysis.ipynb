{
 "cells": [
  {
   "cell_type": "markdown",
   "metadata": {},
   "source": [
    "# Ghibli Food Recommendation System Analysis\n",
    "\n",
    "This notebook demonstrates the machine learning recommendation system for the Ghibli Food Recipe application."
   ]
  },
  {
   "cell_type": "code",
   "execution_count": null,
   "metadata": {},
   "outputs": [],
   "source": [
    "import sys\n",
    "sys.path.append('../src')\n",
    "sys.path.append('../utils')\n",
    "sys.path.append('../config')\n",
    "\n",
    "import pandas as pd\n",
    "import numpy as np\n",
    "import matplotlib.pyplot as plt\n",
    "import seaborn as sns\n",
    "from models.recommendation_engine import GhibliFoodRecommendationEngine\n",
    "from utils.data_fetcher import DataFetcher\n",
    "import asyncio\n",
    "\n",
    "# Set up plotting\n",
    "plt.style.use('ggplot')\n",
    "sns.set_palette(\"husl\")\n",
    "%matplotlib inline"
   ]
  },
  {
   "cell_type": "markdown",
   "metadata": {},
   "source": [
    "## 1. Data Loading and Exploration"
   ]
  },
  {
   "cell_type": "code",
   "execution_count": null,
   "metadata": {},
   "outputs": [],
   "source": [
    "# Initialize data fetcher\n",
    "data_fetcher = DataFetcher()\n",
    "\n",
    "# Load data\n",
    "books_data, ratings_data = await data_fetcher.get_training_data(use_mock_data=True)\n",
    "\n",
    "print(f\"Loaded {len(books_data)} books and {len(ratings_data)} ratings\")"
   ]
  },
  {
   "cell_type": "code",
   "execution_count": null,
   "metadata": {},
   "outputs": [],
   "source": [
    "# Convert to DataFrames for analysis\n",
    "books_df = pd.DataFrame(books_data)\n",
    "ratings_df = pd.DataFrame(ratings_data)\n",
    "\n",
    "print(\"Books DataFrame:\")\n",
    "print(books_df.head())\n",
    "print(\"\\nRatings DataFrame:\")\n",
    "print(ratings_df.head())"
   ]
  },
  {
   "cell_type": "markdown",
   "metadata": {},
   "source": [
    "## 2. Data Visualization"
   ]
  },
  {
   "cell_type": "code",
   "execution_count": null,
   "metadata": {},
   "outputs": [],
   "source": [
    "# Genre distribution\n",
    "plt.figure(figsize=(12, 6))\n",
    "books_df['genre'].value_counts().plot(kind='bar')\n",
    "plt.title('Distribution of Book Genres')\n",
    "plt.xlabel('Genre')\n",
    "plt.ylabel('Count')\n",
    "plt.xticks(rotation=45)\n",
    "plt.tight_layout()\n",
    "plt.show()"
   ]
  },
  {
   "cell_type": "code",
   "execution_count": null,
   "metadata": {},
   "outputs": [],
   "source": [
    "# Rating distribution\n",
    "plt.figure(figsize=(10, 6))\n",
    "ratings_df['rating'].hist(bins=5, alpha=0.7, edgecolor='black')\n",
    "plt.title('Distribution of User Ratings')\n",
    "plt.xlabel('Rating')\n",
    "plt.ylabel('Frequency')\n",
    "plt.xticks(range(1, 6))\n",
    "plt.show()"
   ]
  },
  {
   "cell_type": "markdown",
   "metadata": {},
   "source": [
    "## 3. Model Training"
   ]
  },
  {
   "cell_type": "code",
   "execution_count": null,
   "metadata": {},
   "outputs": [],
   "source": [
    "# Initialize and train recommendation engine\n",
    "engine = GhibliFoodRecommendationEngine(\"../models/\")\n",
    "\n",
    "# Train content-based model\n",
    "engine.train_content_based_model(books_data)\n",
    "print(\"Content-based model trained!\")\n",
    "\n",
    "# Train collaborative filtering model\n",
    "engine.train_collaborative_filtering_model(ratings_data)\n",
    "print(\"Collaborative filtering model trained!\")"
   ]
  },
  {
   "cell_type": "markdown",
   "metadata": {},
   "source": [
    "## 4. Testing Recommendations"
   ]
  },
  {
   "cell_type": "code",
   "execution_count": null,
   "metadata": {},
   "outputs": [],
   "source": [
    "# Test content-based recommendations\n",
    "if books_data:\n",
    "    sample_book_id = books_data[0]['id']\n",
    "    content_recs = engine.get_content_based_recommendations(sample_book_id, n_recommendations=5)\n",
    "    \n",
    "    print(f\"Content-based recommendations for book '{books_data[0]['title']}':\")\n",
    "    for i, rec in enumerate(content_recs, 1):\n",
    "        print(f\"{i}. {rec['title']} by {rec['author']} (Score: {rec['similarity_score']:.3f})\")\n",
    "        print(f\"   Reason: {rec['reason']}\")\n",
    "        print()"
   ]
  },
  {
   "cell_type": "code",
   "execution_count": null,
   "metadata": {},
   "outputs": [],
   "source": [
    "# Test collaborative filtering recommendations\n",
    "if ratings_data:\n",
    "    sample_user_id = ratings_data[0]['userId']\n",
    "    collab_recs = engine.get_collaborative_recommendations(sample_user_id, n_recommendations=5)\n",
    "    \n",
    "    print(f\"Collaborative filtering recommendations for user {sample_user_id}:\")\n",
    "    for i, rec in enumerate(collab_recs, 1):\n",
    "        print(f\"{i}. {rec['title']} by {rec['author']} (Predicted Rating: {rec['predicted_rating']:.2f})\")"
   ]
  },
  {
   "cell_type": "markdown",
   "metadata": {},
   "source": [
    "## 5. Model Analysis"
   ]
  },
  {
   "cell_type": "code",
   "execution_count": null,
   "metadata": {},
   "outputs": [],
   "source": [
    "# Analyze content similarity matrix\n",
    "if engine.content_similarity_matrix is not None:\n",
    "    plt.figure(figsize=(10, 8))\n",
    "    similarity_sample = engine.content_similarity_matrix[:20, :20]  # Sample for visualization\n",
    "    sns.heatmap(similarity_sample, cmap='coolwarm', center=0, annot=False)\n",
    "    plt.title('Content Similarity Matrix (Sample)')\n",
    "    plt.xlabel('Books')\n",
    "    plt.ylabel('Books')\n",
    "    plt.show()"
   ]
  },
  {
   "cell_type": "code",
   "execution_count": null,
   "metadata": {},
   "outputs": [],
   "source": [
    "# Save the trained models\n",
    "engine.save_models()\n",
    "print(\"Models saved successfully!\")"
   ]
  },
  {
   "cell_type": "markdown",
   "metadata": {},
   "source": [
    "## 6. Performance Metrics"
   ]
  },
  {
   "cell_type": "code",
   "execution_count": null,
   "metadata": {},
   "outputs": [],
   "source": [
    "# Calculate basic performance metrics\n",
    "print(\"Model Performance Summary:\")\n",
    "print(f\"- Total books in dataset: {len(books_data)}\")\n",
    "print(f\"- Total ratings: {len(ratings_data)}\")\n",
    "print(f\"- Average rating: {ratings_df['rating'].mean():.2f}\")\n",
    "print(f\"- Rating standard deviation: {ratings_df['rating'].std():.2f}\")\n",
    "print(f\"- Unique users: {ratings_df['userId'].nunique()}\")\n",
    "print(f\"- Unique books rated: {ratings_df['bookId'].nunique()}\")\n",
    "\n",
    "# Sparsity calculation\n",
    "total_possible_ratings = ratings_df['userId'].nunique() * ratings_df['bookId'].nunique()\n",
    "actual_ratings = len(ratings_df)\n",
    "sparsity = (1 - actual_ratings / total_possible_ratings) * 100\n",
    "print(f\"- Data sparsity: {sparsity:.2f}%\")"
   ]
  }
 ],
 "metadata": {
  "kernelspec": {
   "display_name": "Python 3",
   "language": "python",
   "name": "python3"
  },
  "language_info": {
   "codemirror_mode": {
    "name": "ipython",
    "version": 3
   },
   "file_extension": ".py",
   "mimetype": "text/x-python",
   "name": "python",
   "nbconvert_exporter": "python",
   "pygments_lexer": "ipython3",
   "version": "3.11.0"
  }
 },
 "nbformat": 4,
 "nbformat_minor": 4
}